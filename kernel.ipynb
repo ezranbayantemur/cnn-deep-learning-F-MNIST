{
 "cells": [
  {
   "cell_type": "code",
   "execution_count": null,
   "metadata": {
    "_cell_guid": "b1076dfc-b9ad-4769-8c92-a6c4dae69d19",
    "_uuid": "8f2839f25d086af736a60e9eeb907d3b93b6e0e5"
   },
   "outputs": [],
   "source": [
    "# Kütüphanelerin çağırılması\n",
    "from keras.models import Sequential\n",
    "from keras.layers import Conv2D, MaxPooling2D, Dense, Flatten, Dropout \n",
    "from keras.optimizers import Adam\n",
    "\n",
    "from keras.datasets import fashion_mnist\n",
    "from keras.utils.np_utils import to_categorical\n",
    "import keras\n",
    "from keras.models import load_model\n",
    "\n",
    "import os\n",
    "import numpy as np\n",
    "import matplotlib.pyplot as plt\n",
    "from matplotlib import cm\n",
    "import random"
   ]
  },
  {
   "cell_type": "markdown",
   "metadata": {},
   "source": [
    "# Veri Ön İşleme"
   ]
  },
  {
   "cell_type": "code",
   "execution_count": null,
   "metadata": {
    "_cell_guid": "79c7e3d0-c299-4dcb-8224-4455121ee9b0",
    "_uuid": "d629ff2d2480ee46fbb7e2d37f6b5fab8052498a"
   },
   "outputs": [],
   "source": [
    "# Veri setinin aktarımı\n",
    "(inp_train, out_train),(inp_test, out_test) = fashion_mnist.load_data()"
   ]
  },
  {
   "cell_type": "code",
   "execution_count": null,
   "metadata": {
    "_uuid": "aa6d3e4e99a0dbef55642c603ed610f07f6ba41a"
   },
   "outputs": [],
   "source": [
    "# Validasyon ve eğitim veri setlerinin düzenlenmesi\n",
    "inp_train=inp_train.reshape(-1,28,28,1)\n",
    "inp_test=inp_test.reshape(-1,28,28,1)\n",
    "x_train = inp_train\n",
    "x_test = inp_test\n",
    "y_train = out_train\n",
    "y_test = out_test\n",
    "\n",
    "# Scale işlemi için ondalık hale çevrilmesi\n",
    "inp_train = inp_train.astype('float32')\n",
    "inp_test = inp_test.astype('float32')\n",
    "\n",
    "# Modelin daha efektif çalışması için değerlerin 0 ile 1 arasına indirgenmesi\n",
    "inp_train = inp_train/255.0\n",
    "inp_test = inp_test/255.0\n",
    "\n",
    "# Çıktı olarak tanımlanan değişkenlere one-hot-encoding işlemi uygulanması\n",
    "out_train = to_categorical(out_train)\n",
    "out_test = to_categorical(out_test)"
   ]
  },
  {
   "cell_type": "markdown",
   "metadata": {},
   "source": [
    "# Modelin Oluşturulması"
   ]
  },
  {
   "cell_type": "code",
   "execution_count": null,
   "metadata": {
    "_uuid": "721f1bd2bf57b7dbfc26609dd0205e5630491634"
   },
   "outputs": [],
   "source": [
    "model=Sequential()\n",
    "\n",
    "# 8 filtreli, 3x3 kernel matrisli ve relu aktivatörlü ilk katmanın oluşturulması\n",
    "model.add(Conv2D(filters = 8,\n",
    "                 kernel_size = (3,3),     \n",
    "                 padding = 'Same',\n",
    "                 input_shape = (28, 28, 1),\n",
    "                 activation = 'relu'))\n",
    "\n",
    "model.add(MaxPooling2D(pool_size=(2,2)))\n",
    "model.add(Dropout(0.25))\n",
    "\n",
    "# 16 filtreli, 3x3 kernel matrisli ve relu aktivatörlü ilk katmanın oluşturulması\n",
    "model.add(Conv2D(filters = 16, \n",
    "                 kernel_size = (3,3), \n",
    "                 padding = 'Same', \n",
    "                 activation = 'relu'))\n",
    "model.add(MaxPooling2D(pool_size = (2,2)))\n",
    "model.add(Dropout(0.25))\n",
    "\n",
    "model.add(Flatten())\n",
    "model.add(Dense(254, activation='relu'))\n",
    "model.add(Dropout(0.5))\n",
    "model.add(Dense(10, activation='softmax'))"
   ]
  },
  {
   "cell_type": "code",
   "execution_count": null,
   "metadata": {
    "_uuid": "26f7168906a9fe0e19266a2c3411513310e10ff3"
   },
   "outputs": [],
   "source": [
    "optimizer = Adam(lr=0.001, beta_1=0.9, beta_2=0.999)\n",
    "\n",
    "model.compile(optimizer= optimizer, loss='categorical_crossentropy', metrics=['accuracy'])"
   ]
  },
  {
   "cell_type": "code",
   "execution_count": null,
   "metadata": {
    "_uuid": "6651b90bf3a72bfc9a06f12f4ee293c1eb5e6053",
    "scrolled": false
   },
   "outputs": [],
   "source": [
    "egitim = model.fit(inp_train,out_train,batch_size=250,verbose=1,epochs=150,validation_split=0.2)"
   ]
  },
  {
   "cell_type": "code",
   "execution_count": null,
   "metadata": {
    "_uuid": "95228a6ae26c879cfa9763a6a27baba9b7391cb3"
   },
   "outputs": [],
   "source": [
    "model.save(\"fashion_model.h5\")"
   ]
  },
  {
   "cell_type": "code",
   "execution_count": null,
   "metadata": {
    "_uuid": "2574a20117d36b44a76e3604becae534234f2a47"
   },
   "outputs": [],
   "source": [
    "correction=model.evaluate(inp_test.reshape(-1,28,28,1),out_test, verbose=1)\n",
    "print('Yitim değeri (loss): {}'.format(correction[0]))\n",
    "print('Test başarısı (accuracy): {}'.format(correction[1]))"
   ]
  },
  {
   "cell_type": "code",
   "execution_count": null,
   "metadata": {
    "_uuid": "b580930df44472fa6e63b8c38de65236c97d4cb4"
   },
   "outputs": [],
   "source": [
    "f, axarr = plt.subplots(2, sharex=True)\n",
    "axarr[0].plot(egitim.history['acc'], color = 'pink')\n",
    "axarr[0].plot(egitim.history['val_acc'], color = 'purple')\n",
    "axarr[0].legend(['train', 'test'])\n",
    "axarr[0].set_title('acc - val_acc')\n",
    "axarr[1].plot(egitim.history['loss'], color = 'blue')\n",
    "axarr[1].plot(egitim.history['val_loss'], color = 'gray')\n",
    "axarr[1].legend(['train', 'test'])\n",
    "axarr[1].set_title('loss - val_loss')\n",
    "plt.show()"
   ]
  },
  {
   "cell_type": "markdown",
   "metadata": {
    "_uuid": "980718f132709f3866f55be098f713509022b719"
   },
   "source": [
    "# Test Bölümü"
   ]
  },
  {
   "cell_type": "code",
   "execution_count": null,
   "metadata": {
    "_uuid": "937244de1e7ce5b7caf64c40ae24599d969b221d"
   },
   "outputs": [],
   "source": [
    "(inp_train, out_train), (inp_test, out_test) = fashion_mnist.load_data()"
   ]
  },
  {
   "cell_type": "code",
   "execution_count": null,
   "metadata": {
    "_uuid": "9d163c16ab330db7db275f26ddd1aee9664d16cf"
   },
   "outputs": [],
   "source": [
    "# fashion mnist etiket isimleri\n",
    "fashion_mnist_labels = np.array([\n",
    "    'Tişört/Üst',\n",
    "    'Pantolon',\n",
    "    'Kazak',\n",
    "    'Elbise',\n",
    "    'Ceket',\n",
    "    'Sandalet',\n",
    "    'Gömlek',\n",
    "    'Spor ayakkabı',\n",
    "    'Çanta',\n",
    "    'Bilekte Bot'])"
   ]
  },
  {
   "cell_type": "code",
   "execution_count": null,
   "metadata": {
    "_uuid": "b52f8967fb67c54c817e0f20ab72d842fb354059",
    "scrolled": true
   },
   "outputs": [],
   "source": [
    "def convertMnistData(image):\n",
    "    img = image.astype('float32')\n",
    "    img /= 255\n",
    "    return image.reshape(1,28,28,1)\n",
    "\n",
    "plt.figure(figsize=(16,16))\n",
    "\n",
    "right = 0\n",
    "mistake = 0\n",
    "predictionNum = 100\n",
    "\n",
    "for i in range(predictionNum):\n",
    "    index = random.randint(0, inp_test.shape[0])\n",
    "    image = inp_test[index]\n",
    "    data = convertMnistData(image)\n",
    "\n",
    "    plt.subplot(10, 10, i+1)\n",
    "    plt.imshow(inp_test[index], cmap=cm.gray_r)\n",
    "    plt.axis('off')\n",
    "\n",
    "    ret = model.predict(data, batch_size=1) \n",
    "\n",
    "    bestnum = 0.0\n",
    "    bestclass = 0\n",
    "    for n in [0,1,2,3,4,5,6,7,8,9]:\n",
    "        if bestnum < ret[0][n]:\n",
    "            bestnum = ret[0][n]\n",
    "            bestclass = n\n",
    "\n",
    "    if out_test[index] == bestclass:\n",
    "        plt.title(fashion_mnist_labels[bestclass])\n",
    "        right += 1\n",
    "    else:\n",
    "        #tahmin edilen sınıf != gerçek sınıf\n",
    "        plt.title(fashion_mnist_labels[bestclass] + \"!=\" + fashion_mnist_labels[out_test[index]], color='#ff0000')\n",
    "        mistake += 1\n",
    "                                                                   \n",
    "plt.show()\n",
    "print(\"Doğru tahminlerin sayısı:\", right)\n",
    "print(\"Hata sayısı:\", mistake)\n",
    "print(\"Doğru tahmin oranı:\", right/(mistake + right)*100, '%')"
   ]
  },
  {
   "cell_type": "code",
   "execution_count": null,
   "metadata": {
    "_uuid": "8058f0ac42de5073aa19433c7bf5c19c2e2339c5"
   },
   "outputs": [],
   "source": [
    "from sklearn.metrics import confusion_matrix, accuracy_score, f1_score, classification_report\n",
    "import seaborn as sns\n",
    "\n",
    "pred = model.predict_classes(x_test)\n",
    "\n",
    "cm=confusion_matrix(y_test,pred)\n",
    "\n",
    "f,ax = plt.subplots(figsize=(14, 14))\n",
    "sns.heatmap(cm, annot=True, linewidths=0.01,cmap=\"Blues\",linecolor=\"green\", fmt= '.1f',ax=ax)\n",
    "plt.xlabel(\"Predicted Label\")\n",
    "plt.ylabel(\"True Label\")\n",
    "plt.title(\"Confusion Matrix\")\n",
    "plt.show()"
   ]
  }
 ],
 "metadata": {
  "kernelspec": {
   "display_name": "Python 3",
   "language": "python",
   "name": "python3"
  },
  "language_info": {
   "codemirror_mode": {
    "name": "ipython",
    "version": 3
   },
   "file_extension": ".py",
   "mimetype": "text/x-python",
   "name": "python",
   "nbconvert_exporter": "python",
   "pygments_lexer": "ipython3",
   "version": "3.6.5"
  }
 },
 "nbformat": 4,
 "nbformat_minor": 1
}
